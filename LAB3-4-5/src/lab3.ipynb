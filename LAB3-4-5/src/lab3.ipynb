{
 "cells": [
  {
   "cell_type": "markdown",
   "metadata": {},
   "source": [
    "\n",
    "## 1. Theory & Pseudocode\n",
    "\n",
    "**DFS (Depth-First Search)** explores deep before backtracking. Useful for topological sorting, connected components, backtracking puzzles.\n",
    "\n"
   ]
  },
  {
   "cell_type": "code",
   "execution_count": 9,
   "metadata": {},
   "outputs": [
    {
     "ename": "SyntaxError",
     "evalue": "invalid syntax (1506184331.py, line 1)",
     "output_type": "error",
     "traceback": [
      "\u001b[0;36m  Cell \u001b[0;32mIn[9], line 1\u001b[0;36m\u001b[0m\n\u001b[0;31m    DFS(node):\u001b[0m\n\u001b[0m             ^\u001b[0m\n\u001b[0;31mSyntaxError\u001b[0m\u001b[0;31m:\u001b[0m invalid syntax\n"
     ]
    }
   ],
   "source": [
    "DFS(node):\n",
    "  visit node\n",
    "  for neighbor in node.neighbors:\n",
    "    if not visited: DFS(neighbor)\n"
   ]
  },
  {
   "cell_type": "markdown",
   "metadata": {},
   "source": [
    "**BFS (Breadth-First Search)** explores level by level, guaranteeing shortest path in unweighted graphs. Used in routing, web crawling."
   ]
  },
  {
   "cell_type": "code",
   "execution_count": null,
   "metadata": {},
   "outputs": [],
   "source": [
    "BFS(start):\n",
    "  queue = [start]\n",
    "  while queue:\n",
    "    node = dequeue(queue)\n",
    "    for neighbor in node.neighbors:\n",
    "      if not visited: enqueue(queue, neighbor)"
   ]
  },
  {
   "cell_type": "markdown",
   "metadata": {},
   "source": [
    "**IDDFS (Iterative Deepening DFS)** combines DFS’s space efficiency with BFS’s completeness up to a depth limit. Ideal when target depth is unknown but memory is tight."
   ]
  },
  {
   "cell_type": "code",
   "execution_count": null,
   "metadata": {},
   "outputs": [],
   "source": [
    "for limit in range(max_depth+1):\n",
    "  depth_limited_DFS(start, limit)"
   ]
  },
  {
   "cell_type": "markdown",
   "metadata": {},
   "source": [
    "**Bi-BFS (Bidirectional BFS)** runs two simultaneous BFS from start and target, meeting in the middle to reduce search space."
   ]
  },
  {
   "cell_type": "code",
   "execution_count": null,
   "metadata": {},
   "outputs": [],
   "source": [
    "while both queues not empty:\n",
    "  expand one level forward\n",
    "  expand one level backward\n",
    "  if intersection: reconstruct path"
   ]
  },
  {
   "cell_type": "markdown",
   "metadata": {},
   "source": [
    "## 2. Algorithm Implementations"
   ]
  },
  {
   "cell_type": "code",
   "execution_count": 1,
   "metadata": {},
   "outputs": [],
   "source": [
    "def dfs_recursive(graph, start, visited=None, depth=0, stats=None):\n",
    "    if visited is None:\n",
    "        visited = set()\n",
    "    if stats is None:\n",
    "        stats = {'max_depth': 0, 'ops': 0}\n",
    "    visited.add(start)\n",
    "    stats['max_depth'] = max(stats['max_depth'], depth)\n",
    "    for nbr in graph[start]:\n",
    "        stats['ops'] += 1\n",
    "        if nbr not in visited:\n",
    "            dfs_recursive(graph, nbr, visited, depth+1, stats)\n",
    "    return visited, stats"
   ]
  },
  {
   "cell_type": "code",
   "execution_count": 2,
   "metadata": {},
   "outputs": [],
   "source": [
    "def dfs_iterative(graph, start):\n",
    "    visited, ops = set(), 0\n",
    "    stack = [(start, 0)]\n",
    "    max_depth = 0\n",
    "    while stack:\n",
    "        node, depth = stack.pop()\n",
    "        if node not in visited:\n",
    "            visited.add(node)\n",
    "            max_depth = max(max_depth, depth)\n",
    "            for nbr in graph[node]:\n",
    "                ops += 1\n",
    "                if nbr not in visited:\n",
    "                    stack.append((nbr, depth+1))\n",
    "    return visited, {'max_depth': max_depth, 'ops': ops}"
   ]
  },
  {
   "cell_type": "code",
   "execution_count": 3,
   "metadata": {},
   "outputs": [],
   "source": [
    "from collections import deque\n",
    "\n",
    "def bfs(graph, start):\n",
    "    visited = {start}\n",
    "    queue = deque([start])\n",
    "    frontier_sizes, ops = [], 0\n",
    "    while queue:\n",
    "        frontier_sizes.append(len(queue))\n",
    "        for _ in range(len(queue)):\n",
    "            node = queue.popleft()\n",
    "            for nbr in graph[node]:\n",
    "                ops += 1\n",
    "                if nbr not in visited:\n",
    "                    visited.add(nbr)\n",
    "                    queue.append(nbr)\n",
    "    return visited, {'max_frontier': max(frontier_sizes), 'ops': ops}"
   ]
  },
  {
   "cell_type": "code",
   "execution_count": 5,
   "metadata": {},
   "outputs": [],
   "source": [
    "def iterative_deepening_dfs(graph, start, max_depth, target=None):\n",
    "    stats = {'ops': 0, 'max_frontier': 0, 'steps': 0}\n",
    "    for limit in range(max_depth+1):\n",
    "        visited = set()\n",
    "        stack = [(start, 0, [start])]\n",
    "        current_max = 0\n",
    "        while stack:\n",
    "            current_max = max(current_max, len(stack))\n",
    "            node, depth, path = stack.pop()\n",
    "            stats['steps'] += 1\n",
    "            if node not in visited:\n",
    "                visited.add(node)\n",
    "                if target is not None and node == target:\n",
    "                    stats.update({'max_frontier': current_max, 'path': path, 'path_length': len(path)})\n",
    "                    return visited, stats\n",
    "                if depth < limit:\n",
    "                    for nbr in reversed(list(graph[node])):\n",
    "                        stats['ops'] += 1\n",
    "                        if nbr not in visited:\n",
    "                            stack.append((nbr, depth+1, path+[nbr]))\n",
    "        stats['max_frontier'] = max(stats['max_frontier'], current_max)\n",
    "        if len(visited) == len(graph):\n",
    "            break\n",
    "    stats['visited_count'] = len(visited)\n",
    "    return visited, stats"
   ]
  },
  {
   "cell_type": "code",
   "execution_count": 6,
   "metadata": {},
   "outputs": [],
   "source": [
    "def bidirectional_bfs(graph, start, target):\n",
    "    if start == target:\n",
    "        return {start}, {'path_length': 1, 'ops': 0, 'steps': 0, 'max_frontier': 1, 'visited_count': 1}\n",
    "    forward_q, backward_q = deque([start]), deque([target])\n",
    "    f_vis, b_vis = {start:[start]}, {target:[target]}\n",
    "    ops = steps = 0\n",
    "    max_frontier = 2\n",
    "    while forward_q and backward_q:\n",
    "        steps += 1\n",
    "        max_frontier = max(max_frontier, len(forward_q) + len(backward_q))\n",
    "        # expand forward\n",
    "        for _ in range(len(forward_q)):\n",
    "            u = forward_q.popleft()\n",
    "            for nbr in graph[u]:\n",
    "                ops += 1\n",
    "                if nbr not in f_vis:\n",
    "                    f_vis[nbr] = f_vis[u] + [nbr]\n",
    "                    forward_q.append(nbr)\n",
    "                    if nbr in b_vis:\n",
    "                        path = f_vis[nbr] + b_vis[nbr][-2::-1]\n",
    "                        visited = set(f_vis) | set(b_vis)\n",
    "                        return visited, {'path': path, 'path_length': len(path), 'ops': ops, 'steps': steps, 'max_frontier': max_frontier, 'visited_count': len(visited)}\n",
    "        # expand backward\n",
    "        for _ in range(len(backward_q)):\n",
    "            u = backward_q.popleft()\n",
    "            for nbr in graph[u]:\n",
    "                ops += 1\n",
    "                if nbr not in b_vis:\n",
    "                    b_vis[nbr] = b_vis[u] + [nbr]\n",
    "                    backward_q.append(nbr)\n",
    "                    if nbr in f_vis:\n",
    "                        path = f_vis[nbr] + b_vis[nbr][-2::-1]\n",
    "                        visited = set(f_vis) | set(b_vis)\n",
    "                        return visited, {'path': path, 'path_length': len(path), 'ops': ops, 'steps': steps, 'max_frontier': max_frontier, 'visited_count': len(visited)}\n",
    "    visited = set(f_vis) | set(b_vis)\n",
    "    return visited, {'path_length': float('inf'), 'ops': ops, 'steps': steps, 'max_frontier': max_frontier, 'visited_count': len(visited)}"
   ]
  },
  {
   "cell_type": "markdown",
   "metadata": {},
   "source": [
    "## 3. Test Graph Generators"
   ]
  },
  {
   "cell_type": "code",
   "execution_count": 10,
   "metadata": {},
   "outputs": [],
   "source": [
    "import networkx as nx\n",
    "\n",
    "def generate_sparse_graph(n): return nx.gnm_random_graph(n, n-1, seed=42)\n",
    "def generate_dense_graph(n): return nx.gnm_random_graph(n, n*(n-1)//2, seed=42)\n",
    "def generate_grid_graph(n):\n",
    "    side = int(n**0.5)\n",
    "    G = nx.grid_2d_graph(side, side)\n",
    "    return nx.convert_node_labels_to_integers(G)\n",
    "def generate_cycle_graph(n): return nx.cycle_graph(n)\n",
    "def generate_star_graph(n): return nx.star_graph(n-1)\n",
    "def generate_complete_graph(n): return nx.complete_graph(n)\n",
    "def generate_barabasi_graph(n): return nx.barabasi_albert_graph(n, max(1, n//10), seed=42)\n",
    "def generate_ws_graph(n, p): return nx.watts_strogatz_graph(n, 4, p, seed=42)\n",
    "def generate_geo_graph(n, r): return nx.random_geometric_graph(n, r, seed=42)\n",
    "\n",
    "graph_types = {\n",
    "    'Sparse': generate_sparse_graph,\n",
    "    'Dense': generate_dense_graph,\n",
    "    'Grid': generate_grid_graph,\n",
    "    'Cycle': generate_cycle_graph,\n",
    "    'Star': generate_star_graph,\n",
    "    'Complete': generate_complete_graph,\n",
    "    'Barabasi': generate_barabasi_graph,\n",
    "    'Watts-Strogatz': lambda n: generate_ws_graph(n, 0.3),\n",
    "    'Random-Geometric': lambda n: generate_geo_graph(n, 0.1)\n",
    "}"
   ]
  },
  {
   "cell_type": "markdown",
   "metadata": {},
   "source": [
    "## 4. Metrics & Measurement Functions"
   ]
  },
  {
   "cell_type": "code",
   "execution_count": 11,
   "metadata": {},
   "outputs": [],
   "source": [
    "def measure(func, *args, repeats=5):\n",
    "    times, mems, stats_list = [], [], []\n",
    "    for _ in range(repeats):\n",
    "        tracemalloc.start()\n",
    "        t0 = time.perf_counter()\n",
    "        result, stats = func(*args)\n",
    "        elapsed = time.perf_counter() - t0\n",
    "        peak = tracemalloc.get_traced_memory()[1] / 1024\n",
    "        tracemalloc.stop()\n",
    "        times.append(elapsed)\n",
    "        mems.append(peak)\n",
    "        stats_list.append(stats)\n",
    "    summary = {\n",
    "        'time_mean': statistics.mean(times), 'time_std': statistics.stdev(times),\n",
    "        'mem_mean': statistics.mean(mems), 'mem_std': statistics.stdev(mems),\n",
    "        'stats': stats_list\n",
    "    }\n",
    "    return summary\n"
   ]
  },
  {
   "cell_type": "markdown",
   "metadata": {},
   "source": [
    "## 5. Empirical Experiments"
   ]
  },
  {
   "cell_type": "code",
   "execution_count": 12,
   "metadata": {},
   "outputs": [
    {
     "ename": "AttributeError",
     "evalue": "module 'networkx' has no attribute 'to_dict_of_sets'",
     "output_type": "error",
     "traceback": [
      "\u001b[0;31m---------------------------------------------------------------------------\u001b[0m",
      "\u001b[0;31mAttributeError\u001b[0m                            Traceback (most recent call last)",
      "Cell \u001b[0;32mIn[12], line 8\u001b[0m\n\u001b[1;32m      6\u001b[0m \u001b[38;5;28;01mfor\u001b[39;00m n \u001b[38;5;129;01min\u001b[39;00m sizes:\n\u001b[1;32m      7\u001b[0m     G \u001b[38;5;241m=\u001b[39m gen(n)\n\u001b[0;32m----> 8\u001b[0m     graph \u001b[38;5;241m=\u001b[39m \u001b[43mnx\u001b[49m\u001b[38;5;241;43m.\u001b[39;49m\u001b[43mto_dict_of_sets\u001b[49m(G)\n\u001b[1;32m      9\u001b[0m     d_rec \u001b[38;5;241m=\u001b[39m measure(dfs_recursive, graph, \u001b[38;5;241m0\u001b[39m)\n\u001b[1;32m     10\u001b[0m     d_itr \u001b[38;5;241m=\u001b[39m measure(dfs_iterative, graph, \u001b[38;5;241m0\u001b[39m)\n",
      "\u001b[0;31mAttributeError\u001b[0m: module 'networkx' has no attribute 'to_dict_of_sets'"
     ]
    }
   ],
   "source": [
    "\n",
    "import pandas as pd\n",
    "\n",
    "sizes = [100, 200, 300]\n",
    "records = []\n",
    "for name, gen in graph_types.items():\n",
    "    for n in sizes:\n",
    "        G = gen(n)\n",
    "        graph = nx.to_dict_of_sets(G)\n",
    "        d_rec = measure(dfs_recursive, graph, 0)\n",
    "        d_itr = measure(dfs_iterative, graph, 0)\n",
    "        bfs_m = measure(bfs, graph, 0)\n",
    "        iddfs_m = measure(iterative_deepening_dfs, graph, 0, 10)\n",
    "        bbfs_m = measure(bidirectional_bfs, graph, 0, n-1)\n",
    "        records.append({\n",
    "            'Graph': name, 'Size': n,\n",
    "            'DFS Rec Time': d_rec['time_mean'], 'DFS Rec Time Std': d_rec['time_std'],\n",
    "            'DFS Rec Mem': d_rec['mem_mean'], 'DFS Rec Mem Std': d_rec['mem_std'],\n",
    "            'DFS Itr Time': d_itr['time_mean'], 'DFS Itr Mem': d_itr['mem_mean'],\n",
    "            'BFS Time': bfs_m['time_mean'], 'BFS Mem': bfs_m['mem_mean'],\n",
    "            'IDDFS Time': iddfs_m['time_mean'], 'IDDFS Mem': iddfs_m['mem_mean'],\n",
    "            'Bi-BFS Time': bbfs_m['time_mean'], 'Bi-BFS Mem': bbfs_m['mem_mean']\n",
    "        })\n",
    "df = pd.DataFrame(records)\n",
    "df"
   ]
  },
  {
   "cell_type": "markdown",
   "metadata": {},
   "source": [
    "## 6. Visualization"
   ]
  },
  {
   "cell_type": "code",
   "execution_count": 13,
   "metadata": {},
   "outputs": [
    {
     "ename": "NameError",
     "evalue": "name 'df' is not defined",
     "output_type": "error",
     "traceback": [
      "\u001b[0;31m---------------------------------------------------------------------------\u001b[0m",
      "\u001b[0;31mNameError\u001b[0m                                 Traceback (most recent call last)",
      "Cell \u001b[0;32mIn[13], line 20\u001b[0m\n\u001b[1;32m     17\u001b[0m     plt\u001b[38;5;241m.\u001b[39mtitle(\u001b[38;5;124mf\u001b[39m\u001b[38;5;124m'\u001b[39m\u001b[38;5;132;01m{\u001b[39;00mmetric\u001b[38;5;132;01m}\u001b[39;00m\u001b[38;5;124m Comparison\u001b[39m\u001b[38;5;124m'\u001b[39m)\n\u001b[1;32m     18\u001b[0m     plt\u001b[38;5;241m.\u001b[39mlegend(); plt\u001b[38;5;241m.\u001b[39mgrid(\u001b[38;5;28;01mTrue\u001b[39;00m)\n\u001b[0;32m---> 20\u001b[0m \u001b[43mplot_metric\u001b[49m\u001b[43m(\u001b[49m\u001b[38;5;124;43m'\u001b[39;49m\u001b[38;5;124;43mTime\u001b[39;49m\u001b[38;5;124;43m'\u001b[39;49m\u001b[43m,\u001b[49m\u001b[43m \u001b[49m\u001b[38;5;124;43m'\u001b[39;49m\u001b[38;5;124;43mSeconds\u001b[39;49m\u001b[38;5;124;43m'\u001b[39;49m\u001b[43m)\u001b[49m\n\u001b[1;32m     21\u001b[0m plot_metric(\u001b[38;5;124m'\u001b[39m\u001b[38;5;124mMem\u001b[39m\u001b[38;5;124m'\u001b[39m, \u001b[38;5;124m'\u001b[39m\u001b[38;5;124mKB\u001b[39m\u001b[38;5;124m'\u001b[39m)\n",
      "Cell \u001b[0;32mIn[13], line 8\u001b[0m, in \u001b[0;36mplot_metric\u001b[0;34m(metric, ylabel)\u001b[0m\n\u001b[1;32m      6\u001b[0m mean_col \u001b[38;5;241m=\u001b[39m \u001b[38;5;124mf\u001b[39m\u001b[38;5;124m\"\u001b[39m\u001b[38;5;132;01m{\u001b[39;00malg\u001b[38;5;132;01m}\u001b[39;00m\u001b[38;5;124m \u001b[39m\u001b[38;5;132;01m{\u001b[39;00mmetric\u001b[38;5;132;01m}\u001b[39;00m\u001b[38;5;124m\"\u001b[39m\n\u001b[1;32m      7\u001b[0m std_col \u001b[38;5;241m=\u001b[39m \u001b[38;5;124mf\u001b[39m\u001b[38;5;124m\"\u001b[39m\u001b[38;5;132;01m{\u001b[39;00malg\u001b[38;5;132;01m}\u001b[39;00m\u001b[38;5;124m \u001b[39m\u001b[38;5;132;01m{\u001b[39;00mmetric\u001b[38;5;132;01m}\u001b[39;00m\u001b[38;5;124m Std\u001b[39m\u001b[38;5;124m\"\u001b[39m \u001b[38;5;28;01mif\u001b[39;00m metric\u001b[38;5;241m==\u001b[39m\u001b[38;5;124m'\u001b[39m\u001b[38;5;124mTime\u001b[39m\u001b[38;5;124m'\u001b[39m \u001b[38;5;28;01melse\u001b[39;00m \u001b[38;5;28;01mNone\u001b[39;00m\n\u001b[0;32m----> 8\u001b[0m \u001b[38;5;28;01mfor\u001b[39;00m name \u001b[38;5;129;01min\u001b[39;00m \u001b[43mdf\u001b[49m[\u001b[38;5;124m'\u001b[39m\u001b[38;5;124mGraph\u001b[39m\u001b[38;5;124m'\u001b[39m]\u001b[38;5;241m.\u001b[39munique():\n\u001b[1;32m      9\u001b[0m     sub \u001b[38;5;241m=\u001b[39m df[df[\u001b[38;5;124m'\u001b[39m\u001b[38;5;124mGraph\u001b[39m\u001b[38;5;124m'\u001b[39m]\u001b[38;5;241m==\u001b[39mname]\n\u001b[1;32m     10\u001b[0m     \u001b[38;5;28;01mif\u001b[39;00m std_col \u001b[38;5;129;01mand\u001b[39;00m std_col \u001b[38;5;129;01min\u001b[39;00m sub:\n",
      "\u001b[0;31mNameError\u001b[0m: name 'df' is not defined"
     ]
    },
    {
     "data": {
      "text/plain": [
       "<Figure size 1200x600 with 0 Axes>"
      ]
     },
     "metadata": {},
     "output_type": "display_data"
    }
   ],
   "source": [
    "import matplotlib.pyplot as plt\n",
    "\n",
    "def plot_metric(metric, ylabel):\n",
    "    plt.figure(figsize=(12,6))\n",
    "    for alg in ['DFS Rec', 'DFS Itr', 'BFS', 'IDDFS', 'Bi-BFS']:\n",
    "        mean_col = f\"{alg} {metric}\"\n",
    "        std_col = f\"{alg} {metric} Std\" if metric=='Time' else None\n",
    "        for name in df['Graph'].unique():\n",
    "            sub = df[df['Graph']==name]\n",
    "            if std_col and std_col in sub:\n",
    "                plt.errorbar(sub['Size'], sub[mean_col], yerr=sub[std_col], capsize=3,\n",
    "                             label=f\"{alg} - {name}\")\n",
    "            else:\n",
    "                plt.plot(sub['Size'], sub[mean_col], label=f\"{alg} - {name}\")\n",
    "    plt.xlabel('Nodes')\n",
    "    plt.ylabel(ylabel)\n",
    "    plt.title(f'{metric} Comparison')\n",
    "    plt.legend(); plt.grid(True)\n",
    "\n",
    "plot_metric('Time', 'Seconds')\n",
    "plot_metric('Mem', 'KB')"
   ]
  }
 ],
 "metadata": {
  "kernelspec": {
   "display_name": "Python 3",
   "language": "python",
   "name": "python3"
  },
  "language_info": {
   "codemirror_mode": {
    "name": "ipython",
    "version": 3
   },
   "file_extension": ".py",
   "mimetype": "text/x-python",
   "name": "python",
   "nbconvert_exporter": "python",
   "pygments_lexer": "ipython3",
   "version": "3.12.7"
  }
 },
 "nbformat": 4,
 "nbformat_minor": 2
}
